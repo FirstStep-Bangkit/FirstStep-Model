{
  "nbformat": 4,
  "nbformat_minor": 0,
  "metadata": {
    "colab": {
      "provenance": []
    },
    "kernelspec": {
      "name": "python3",
      "display_name": "Python 3"
    },
    "language_info": {
      "name": "python"
    }
  },
  "cells": [
    {
      "cell_type": "markdown",
      "source": [
        "## Import Library"
      ],
      "metadata": {
        "id": "79KqvgQgXfTJ"
      }
    },
    {
      "cell_type": "code",
      "execution_count": 1,
      "metadata": {
        "id": "ESVrWohHaThh"
      },
      "outputs": [],
      "source": [
        "import pandas as pd\n",
        "import numpy as np\n",
        "import tensorflow as tf\n",
        "import matplotlib.pyplot as plt\n",
        "import seaborn as sns\n",
        "from tensorflow import keras\n",
        "from sklearn.model_selection import train_test_split\n",
        "from sklearn.metrics import accuracy_score\n",
        "from keras.models import Sequential\n",
        "from keras.layers import Dense"
      ]
    },
    {
      "cell_type": "markdown",
      "source": [
        "## Import Dataset"
      ],
      "metadata": {
        "id": "7da6ptrIXoyL"
      }
    },
    {
      "cell_type": "code",
      "source": [
        "# import data\n",
        "! gdown --id 1j1T1Cfq6kbEsQpsDWmJKh1_lsZU2ODPY"
      ],
      "metadata": {
        "colab": {
          "base_uri": "https://localhost:8080/"
        },
        "id": "pfHOrHIfaXhg",
        "outputId": "adf0a340-4580-4acd-baac-9e642e3fee4c"
      },
      "execution_count": 2,
      "outputs": [
        {
          "output_type": "stream",
          "name": "stdout",
          "text": [
            "/usr/local/lib/python3.10/dist-packages/gdown/cli.py:121: FutureWarning: Option `--id` was deprecated in version 4.3.1 and will be removed in 5.0. You don't need to pass it anymore to use a file ID.\n",
            "  warnings.warn(\n",
            "Downloading...\n",
            "From: https://drive.google.com/uc?id=1j1T1Cfq6kbEsQpsDWmJKh1_lsZU2ODPY\n",
            "To: /content/16P - Indonesia.csv\n",
            "100% 8.98M/8.98M [00:00<00:00, 56.7MB/s]\n"
          ]
        }
      ]
    },
    {
      "cell_type": "code",
      "source": [
        "mbti = pd.read_csv('16P - Indonesia.csv')\n",
        "mbti['Kepribadian'] = mbti['Kepribadian'].replace({'ESTJ': 0, 'ENTJ': 1, 'ESFJ' :2, 'ENFJ':3, 'ISTJ':4, 'ISFJ' : 5, 'INTJ': 6, 'INFJ': 7, 'ESTP' :8, 'ESFP':9, 'ENTP':10,'ENFP' : 11,'ISTP':12, 'ISFP':13, 'INTP':14, 'INFP':15 })\n",
        "mbti.head()"
      ],
      "metadata": {
        "colab": {
          "base_uri": "https://localhost:8080/",
          "height": 595
        },
        "id": "r6TPnrA3a73G",
        "outputId": "c17ba1f7-dc5c-4f01-dfba-5aca2818762b"
      },
      "execution_count": 3,
      "outputs": [
        {
          "output_type": "execute_result",
          "data": {
            "text/plain": [
              "   Response Id  Anda secara teratur mendapatkan teman baru.  \\\n",
              "0            0                                            0   \n",
              "1            1                                            0   \n",
              "2            2                                            0   \n",
              "3            3                                            0   \n",
              "4            4                                            0   \n",
              "\n",
              "   Anda menghabiskan banyak waktu luang untuk menjelajahi berbagai topik acak yang menarik minat Anda  \\\n",
              "0                                                  0                                                    \n",
              "1                                                  0                                                    \n",
              "2                                                  0                                                    \n",
              "3                                                 -1                                                    \n",
              "4                                                  0                                                    \n",
              "\n",
              "   Melihat orang lain menangis dapat dengan mudah membuat Anda merasa ingin menangis juga  \\\n",
              "0                                                  0                                        \n",
              "1                                                 -2                                        \n",
              "2                                                  2                                        \n",
              "3                                                  3                                        \n",
              "4                                                 -1                                        \n",
              "\n",
              "   Anda sering membuat rencana cadangan untuk rencana cadangan.  \\\n",
              "0                                                  0              \n",
              "1                                                 -3              \n",
              "2                                                  0              \n",
              "3                                                 -1              \n",
              "4                                                  0              \n",
              "\n",
              "   Anda biasanya tetap tenang, bahkan di bawah banyak tekanan  \\\n",
              "0                                                  0            \n",
              "1                                                 -1            \n",
              "2                                                 -1            \n",
              "3                                                  0            \n",
              "4                                                  2            \n",
              "\n",
              "   Di acara sosial, Anda jarang mencoba memperkenalkan diri kepada orang baru dan kebanyakan berbicara dengan orang yang sudah Anda kenal  \\\n",
              "0                                                  1                                                                                        \n",
              "1                                                  2                                                                                        \n",
              "2                                                  2                                                                                        \n",
              "3                                                  0                                                                                        \n",
              "4                                                 -1                                                                                        \n",
              "\n",
              "   Anda lebih memilih untuk menyelesaikannya sepenuhnya proyek sebelum memulai yang lain.  \\\n",
              "0                                                  1                                        \n",
              "1                                                 -2                                        \n",
              "2                                                  0                                        \n",
              "3                                                 -2                                        \n",
              "4                                                 -2                                        \n",
              "\n",
              "   Anda sangat sentimental.  \\\n",
              "0                         0   \n",
              "1                         0   \n",
              "2                         0   \n",
              "3                         0   \n",
              "4                         0   \n",
              "\n",
              "   Anda suka menggunakan alat pengorganisasian seperti jadwal dan daftar.  \\\n",
              "0                                                  0                        \n",
              "1                                                  3                        \n",
              "2                                                  1                        \n",
              "3                                                 -2                        \n",
              "4                                                  1                        \n",
              "\n",
              "   ...  \\\n",
              "0  ...   \n",
              "1  ...   \n",
              "2  ...   \n",
              "3  ...   \n",
              "4  ...   \n",
              "\n",
              "   Anda percaya bahwa merenungkan pertanyaan filosofis abstrak adalah buang-buang waktu.  \\\n",
              "0                                                  0                                       \n",
              "1                                                  0                                       \n",
              "2                                                  0                                       \n",
              "3                                                  0                                       \n",
              "4                                                  0                                       \n",
              "\n",
              "   Anda merasa lebih tertarik ke tempat-tempat dengan suasana sibuk dan ramai daripada tempat yang tenang dan intim.  \\\n",
              "0                                                  0                                                                   \n",
              "1                                                 -2                                                                   \n",
              "2                                                  2                                                                   \n",
              "3                                                  0                                                                   \n",
              "4                                                  1                                                                   \n",
              "\n",
              "   Anda tahu sekilas bagaimana perasaan seseorang.  \\\n",
              "0                                                0   \n",
              "1                                                0   \n",
              "2                                                0   \n",
              "3                                               -1   \n",
              "4                                                0   \n",
              "\n",
              "   Anda sering merasa kewalahan.  \\\n",
              "0                             -1   \n",
              "1                              2   \n",
              "2                              2   \n",
              "3                             -1   \n",
              "4                              2   \n",
              "\n",
              "   Anda menyelesaikan berbagai hal secara metodis tanpa melewatkan langkah apa pun.  \\\n",
              "0                                                  0                                  \n",
              "1                                                  0                                  \n",
              "2                                                 -1                                  \n",
              "3                                                  0                                  \n",
              "4                                                  0                                  \n",
              "\n",
              "   Anda sangat tertarik dengan hal-hal yang dianggap kontroversial.  \\\n",
              "0                                                  0                  \n",
              "1                                                 -1                  \n",
              "2                                                  0                  \n",
              "3                                                  1                  \n",
              "4                                                  1                  \n",
              "\n",
              "   Anda akan memberikan kesempatan bagus jika Anda pikir orang lain lebih membutuhkannya.  \\\n",
              "0                                                  0                                        \n",
              "1                                                 -1                                        \n",
              "2                                                  1                                        \n",
              "3                                                  0                                        \n",
              "4                                                 -1                                        \n",
              "\n",
              "   Anda berjuang dengan tenggat waktu.  \\\n",
              "0                                    0   \n",
              "1                                   -1   \n",
              "2                                    2   \n",
              "3                                   -2   \n",
              "4                                    2   \n",
              "\n",
              "   Anda merasa yakin bahwa segala sesuatunya akan berhasil untuk Anda.  \\\n",
              "0                                                  0                     \n",
              "1                                                  3                     \n",
              "2                                                  1                     \n",
              "3                                                 -1                     \n",
              "4                                                 -1                     \n",
              "\n",
              "   Kepribadian  \n",
              "0           11  \n",
              "1           13  \n",
              "2            7  \n",
              "3           12  \n",
              "4            3  \n",
              "\n",
              "[5 rows x 62 columns]"
            ],
            "text/html": [
              "\n",
              "  <div id=\"df-a557b49b-4d31-4f48-833c-d701e0d49337\">\n",
              "    <div class=\"colab-df-container\">\n",
              "      <div>\n",
              "<style scoped>\n",
              "    .dataframe tbody tr th:only-of-type {\n",
              "        vertical-align: middle;\n",
              "    }\n",
              "\n",
              "    .dataframe tbody tr th {\n",
              "        vertical-align: top;\n",
              "    }\n",
              "\n",
              "    .dataframe thead th {\n",
              "        text-align: right;\n",
              "    }\n",
              "</style>\n",
              "<table border=\"1\" class=\"dataframe\">\n",
              "  <thead>\n",
              "    <tr style=\"text-align: right;\">\n",
              "      <th></th>\n",
              "      <th>Response Id</th>\n",
              "      <th>Anda secara teratur mendapatkan teman baru.</th>\n",
              "      <th>Anda menghabiskan banyak waktu luang untuk menjelajahi berbagai topik acak yang menarik minat Anda</th>\n",
              "      <th>Melihat orang lain menangis dapat dengan mudah membuat Anda merasa ingin menangis juga</th>\n",
              "      <th>Anda sering membuat rencana cadangan untuk rencana cadangan.</th>\n",
              "      <th>Anda biasanya tetap tenang, bahkan di bawah banyak tekanan</th>\n",
              "      <th>Di acara sosial, Anda jarang mencoba memperkenalkan diri kepada orang baru dan kebanyakan berbicara dengan orang yang sudah Anda kenal</th>\n",
              "      <th>Anda lebih memilih untuk menyelesaikannya sepenuhnya proyek sebelum memulai yang lain.</th>\n",
              "      <th>Anda sangat sentimental.</th>\n",
              "      <th>Anda suka menggunakan alat pengorganisasian seperti jadwal dan daftar.</th>\n",
              "      <th>...</th>\n",
              "      <th>Anda percaya bahwa merenungkan pertanyaan filosofis abstrak adalah buang-buang waktu.</th>\n",
              "      <th>Anda merasa lebih tertarik ke tempat-tempat dengan suasana sibuk dan ramai daripada tempat yang tenang dan intim.</th>\n",
              "      <th>Anda tahu sekilas bagaimana perasaan seseorang.</th>\n",
              "      <th>Anda sering merasa kewalahan.</th>\n",
              "      <th>Anda menyelesaikan berbagai hal secara metodis tanpa melewatkan langkah apa pun.</th>\n",
              "      <th>Anda sangat tertarik dengan hal-hal yang dianggap kontroversial.</th>\n",
              "      <th>Anda akan memberikan kesempatan bagus jika Anda pikir orang lain lebih membutuhkannya.</th>\n",
              "      <th>Anda berjuang dengan tenggat waktu.</th>\n",
              "      <th>Anda merasa yakin bahwa segala sesuatunya akan berhasil untuk Anda.</th>\n",
              "      <th>Kepribadian</th>\n",
              "    </tr>\n",
              "  </thead>\n",
              "  <tbody>\n",
              "    <tr>\n",
              "      <th>0</th>\n",
              "      <td>0</td>\n",
              "      <td>0</td>\n",
              "      <td>0</td>\n",
              "      <td>0</td>\n",
              "      <td>0</td>\n",
              "      <td>0</td>\n",
              "      <td>1</td>\n",
              "      <td>1</td>\n",
              "      <td>0</td>\n",
              "      <td>0</td>\n",
              "      <td>...</td>\n",
              "      <td>0</td>\n",
              "      <td>0</td>\n",
              "      <td>0</td>\n",
              "      <td>-1</td>\n",
              "      <td>0</td>\n",
              "      <td>0</td>\n",
              "      <td>0</td>\n",
              "      <td>0</td>\n",
              "      <td>0</td>\n",
              "      <td>11</td>\n",
              "    </tr>\n",
              "    <tr>\n",
              "      <th>1</th>\n",
              "      <td>1</td>\n",
              "      <td>0</td>\n",
              "      <td>0</td>\n",
              "      <td>-2</td>\n",
              "      <td>-3</td>\n",
              "      <td>-1</td>\n",
              "      <td>2</td>\n",
              "      <td>-2</td>\n",
              "      <td>0</td>\n",
              "      <td>3</td>\n",
              "      <td>...</td>\n",
              "      <td>0</td>\n",
              "      <td>-2</td>\n",
              "      <td>0</td>\n",
              "      <td>2</td>\n",
              "      <td>0</td>\n",
              "      <td>-1</td>\n",
              "      <td>-1</td>\n",
              "      <td>-1</td>\n",
              "      <td>3</td>\n",
              "      <td>13</td>\n",
              "    </tr>\n",
              "    <tr>\n",
              "      <th>2</th>\n",
              "      <td>2</td>\n",
              "      <td>0</td>\n",
              "      <td>0</td>\n",
              "      <td>2</td>\n",
              "      <td>0</td>\n",
              "      <td>-1</td>\n",
              "      <td>2</td>\n",
              "      <td>0</td>\n",
              "      <td>0</td>\n",
              "      <td>1</td>\n",
              "      <td>...</td>\n",
              "      <td>0</td>\n",
              "      <td>2</td>\n",
              "      <td>0</td>\n",
              "      <td>2</td>\n",
              "      <td>-1</td>\n",
              "      <td>0</td>\n",
              "      <td>1</td>\n",
              "      <td>2</td>\n",
              "      <td>1</td>\n",
              "      <td>7</td>\n",
              "    </tr>\n",
              "    <tr>\n",
              "      <th>3</th>\n",
              "      <td>3</td>\n",
              "      <td>0</td>\n",
              "      <td>-1</td>\n",
              "      <td>3</td>\n",
              "      <td>-1</td>\n",
              "      <td>0</td>\n",
              "      <td>0</td>\n",
              "      <td>-2</td>\n",
              "      <td>0</td>\n",
              "      <td>-2</td>\n",
              "      <td>...</td>\n",
              "      <td>0</td>\n",
              "      <td>0</td>\n",
              "      <td>-1</td>\n",
              "      <td>-1</td>\n",
              "      <td>0</td>\n",
              "      <td>1</td>\n",
              "      <td>0</td>\n",
              "      <td>-2</td>\n",
              "      <td>-1</td>\n",
              "      <td>12</td>\n",
              "    </tr>\n",
              "    <tr>\n",
              "      <th>4</th>\n",
              "      <td>4</td>\n",
              "      <td>0</td>\n",
              "      <td>0</td>\n",
              "      <td>-1</td>\n",
              "      <td>0</td>\n",
              "      <td>2</td>\n",
              "      <td>-1</td>\n",
              "      <td>-2</td>\n",
              "      <td>0</td>\n",
              "      <td>1</td>\n",
              "      <td>...</td>\n",
              "      <td>0</td>\n",
              "      <td>1</td>\n",
              "      <td>0</td>\n",
              "      <td>2</td>\n",
              "      <td>0</td>\n",
              "      <td>1</td>\n",
              "      <td>-1</td>\n",
              "      <td>2</td>\n",
              "      <td>-1</td>\n",
              "      <td>3</td>\n",
              "    </tr>\n",
              "  </tbody>\n",
              "</table>\n",
              "<p>5 rows × 62 columns</p>\n",
              "</div>\n",
              "      <button class=\"colab-df-convert\" onclick=\"convertToInteractive('df-a557b49b-4d31-4f48-833c-d701e0d49337')\"\n",
              "              title=\"Convert this dataframe to an interactive table.\"\n",
              "              style=\"display:none;\">\n",
              "        \n",
              "  <svg xmlns=\"http://www.w3.org/2000/svg\" height=\"24px\"viewBox=\"0 0 24 24\"\n",
              "       width=\"24px\">\n",
              "    <path d=\"M0 0h24v24H0V0z\" fill=\"none\"/>\n",
              "    <path d=\"M18.56 5.44l.94 2.06.94-2.06 2.06-.94-2.06-.94-.94-2.06-.94 2.06-2.06.94zm-11 1L8.5 8.5l.94-2.06 2.06-.94-2.06-.94L8.5 2.5l-.94 2.06-2.06.94zm10 10l.94 2.06.94-2.06 2.06-.94-2.06-.94-.94-2.06-.94 2.06-2.06.94z\"/><path d=\"M17.41 7.96l-1.37-1.37c-.4-.4-.92-.59-1.43-.59-.52 0-1.04.2-1.43.59L10.3 9.45l-7.72 7.72c-.78.78-.78 2.05 0 2.83L4 21.41c.39.39.9.59 1.41.59.51 0 1.02-.2 1.41-.59l7.78-7.78 2.81-2.81c.8-.78.8-2.07 0-2.86zM5.41 20L4 18.59l7.72-7.72 1.47 1.35L5.41 20z\"/>\n",
              "  </svg>\n",
              "      </button>\n",
              "      \n",
              "  <style>\n",
              "    .colab-df-container {\n",
              "      display:flex;\n",
              "      flex-wrap:wrap;\n",
              "      gap: 12px;\n",
              "    }\n",
              "\n",
              "    .colab-df-convert {\n",
              "      background-color: #E8F0FE;\n",
              "      border: none;\n",
              "      border-radius: 50%;\n",
              "      cursor: pointer;\n",
              "      display: none;\n",
              "      fill: #1967D2;\n",
              "      height: 32px;\n",
              "      padding: 0 0 0 0;\n",
              "      width: 32px;\n",
              "    }\n",
              "\n",
              "    .colab-df-convert:hover {\n",
              "      background-color: #E2EBFA;\n",
              "      box-shadow: 0px 1px 2px rgba(60, 64, 67, 0.3), 0px 1px 3px 1px rgba(60, 64, 67, 0.15);\n",
              "      fill: #174EA6;\n",
              "    }\n",
              "\n",
              "    [theme=dark] .colab-df-convert {\n",
              "      background-color: #3B4455;\n",
              "      fill: #D2E3FC;\n",
              "    }\n",
              "\n",
              "    [theme=dark] .colab-df-convert:hover {\n",
              "      background-color: #434B5C;\n",
              "      box-shadow: 0px 1px 3px 1px rgba(0, 0, 0, 0.15);\n",
              "      filter: drop-shadow(0px 1px 2px rgba(0, 0, 0, 0.3));\n",
              "      fill: #FFFFFF;\n",
              "    }\n",
              "  </style>\n",
              "\n",
              "      <script>\n",
              "        const buttonEl =\n",
              "          document.querySelector('#df-a557b49b-4d31-4f48-833c-d701e0d49337 button.colab-df-convert');\n",
              "        buttonEl.style.display =\n",
              "          google.colab.kernel.accessAllowed ? 'block' : 'none';\n",
              "\n",
              "        async function convertToInteractive(key) {\n",
              "          const element = document.querySelector('#df-a557b49b-4d31-4f48-833c-d701e0d49337');\n",
              "          const dataTable =\n",
              "            await google.colab.kernel.invokeFunction('convertToInteractive',\n",
              "                                                     [key], {});\n",
              "          if (!dataTable) return;\n",
              "\n",
              "          const docLinkHtml = 'Like what you see? Visit the ' +\n",
              "            '<a target=\"_blank\" href=https://colab.research.google.com/notebooks/data_table.ipynb>data table notebook</a>'\n",
              "            + ' to learn more about interactive tables.';\n",
              "          element.innerHTML = '';\n",
              "          dataTable['output_type'] = 'display_data';\n",
              "          await google.colab.output.renderOutput(dataTable, element);\n",
              "          const docLink = document.createElement('div');\n",
              "          docLink.innerHTML = docLinkHtml;\n",
              "          element.appendChild(docLink);\n",
              "        }\n",
              "      </script>\n",
              "    </div>\n",
              "  </div>\n",
              "  "
            ]
          },
          "metadata": {},
          "execution_count": 3
        }
      ]
    },
    {
      "cell_type": "code",
      "source": [
        "# Melihat informasi tentang data\n",
        "print(mbti.info())"
      ],
      "metadata": {
        "colab": {
          "base_uri": "https://localhost:8080/"
        },
        "id": "wyX7DtxzioFk",
        "outputId": "31675d10-203f-477c-b216-139080de4073"
      },
      "execution_count": 4,
      "outputs": [
        {
          "output_type": "stream",
          "name": "stdout",
          "text": [
            "<class 'pandas.core.frame.DataFrame'>\n",
            "RangeIndex: 59999 entries, 0 to 59998\n",
            "Data columns (total 62 columns):\n",
            " #   Column                                                                                                                                  Non-Null Count  Dtype\n",
            "---  ------                                                                                                                                  --------------  -----\n",
            " 0   Response Id                                                                                                                             59999 non-null  int64\n",
            " 1   Anda secara teratur mendapatkan teman baru.                                                                                             59999 non-null  int64\n",
            " 2   Anda menghabiskan banyak waktu luang untuk menjelajahi berbagai topik acak yang menarik minat Anda                                      59999 non-null  int64\n",
            " 3   Melihat orang lain menangis dapat dengan mudah membuat Anda merasa ingin menangis juga                                                  59999 non-null  int64\n",
            " 4   Anda sering membuat rencana cadangan untuk rencana cadangan.                                                                            59999 non-null  int64\n",
            " 5   Anda biasanya tetap tenang, bahkan di bawah banyak tekanan                                                                              59999 non-null  int64\n",
            " 6   Di acara sosial, Anda jarang mencoba memperkenalkan diri kepada orang baru dan kebanyakan berbicara dengan orang yang sudah Anda kenal  59999 non-null  int64\n",
            " 7   Anda lebih memilih untuk menyelesaikannya sepenuhnya proyek sebelum memulai yang lain.                                                  59999 non-null  int64\n",
            " 8   Anda sangat sentimental.                                                                                                                59999 non-null  int64\n",
            " 9   Anda suka menggunakan alat pengorganisasian seperti jadwal dan daftar.                                                                  59999 non-null  int64\n",
            " 10  Bahkan kesalahan kecil dapat menyebabkan Anda meragukan kemampuan dan pengetahuan Anda secara keseluruhan.                              59999 non-null  int64\n",
            " 11  Anda merasa nyaman hanya berjalan ke seseorang yang Anda temukan menarik dan memicu percakapan.                                         59999 non-null  int64\n",
            " 12  Anda tidak terlalu tertarik untuk membahas berbagai interpretasi dan analisis karya kreatif.                                            59999 non-null  int64\n",
            " 13  Anda lebih cenderung mengikuti kepala Anda daripada kata hati Anda.                                                                     59999 non-null  int64\n",
            " 14  Anda biasanya lebih suka melakukan apa yang Anda suka pada saat tertentu alih-alih merencanakan rutinitas harian tertentu.              59999 non-null  int64\n",
            " 15  Anda jarang khawatir apakah Anda membuat kesan yang baik pada orang yang Anda temui.                                                    59999 non-null  int64\n",
            " 16  Anda senang berpartisipasi dalam kegiatan kelompok.                                                                                     59999 non-null  int64\n",
            " 17  Anda menyukai buku dan film yang membuat Anda memiliki interpretasi sendiri tentang akhir cerita .                                      59999 non-null  int64\n",
            " 18  Kebahagiaan Anda datang lebih dari membantu orang lain mencapai sesuatu daripada pencapaian Anda sendiri.                               59999 non-null  int64\n",
            " 19  Anda tertarik pada banyak hal sehingga Anda merasa sulit untuk memilih apa yang akan dicoba selanjutnya.                                59999 non-null  int64\n",
            " 20  Anda cenderung khawatir bahwa segala sesuatunya akan berubah menjadi lebih buruk.                                                       59999 non-null  int64\n",
            " 21  Anda menghindari peran kepemimpinan dalam pengaturan kelompok.                                                                          59999 non-null  int64\n",
            " 22  Anda jelas bukan tipe orang yang artistik.                                                                                              59999 non-null  int64\n",
            " 23  Anda pikir dunia akan menjadi tempat yang lebih baik jika orang lebih mengandalkan rasionalitas daripada perasaan mereka.               59999 non-null  int64\n",
            " 24  Anda lebih suka melakukan pekerjaan rumah Anda sebelum membiarkan diri Anda bersantai.                                                  59999 non-null  int64\n",
            " 25  Anda menikmati menonton orang berdebat.                                                                                                 59999 non-null  int64\n",
            " 26  Anda cenderung menghindari menarik perhatian pada diri sendiri.                                                                         59999 non-null  int64\n",
            " 27  Suasana hati Anda dapat berubah dengan sangat cepat.                                                                                    59999 non-null  int64\n",
            " 28  Anda kehilangan kesabaran dengan orang yang tidak seefisien Anda.                                                                       59999 non-null  int64\n",
            " 29  Anda sering mengakhiri melakukan sesuatu pada saat-saat terakhir yang memungkinkan.                                                     59999 non-null  int64\n",
            " 30  Anda selalu terpesona oleh pertanyaan tentang apa, jika ada, yang terjadi setelah kematian.                                             59999 non-null  int64\n",
            " 31  Anda biasanya lebih suka berada di sekitar orang lain daripada sendirian.                                                               59999 non-null  int64\n",
            " 32  Anda menjadi bosan atau kehilangan minat ketika diskusi menjadi sangat teoretis.                                                        59999 non-null  int64\n",
            " 33  Anda mudah berempati dengan orang yang pengalamannya sangat berbeda dari Anda.                                                          59999 non-null  int64\n",
            " 34  Anda biasanya menunda keputusan akhir selama mungkin.                                                                                   59999 non-null  int64\n",
            " 35  Anda jarang menebak-nebak pilihan yang telah Anda buat .                                                                                59999 non-null  int64\n",
            " 36  Setelah minggu yang panjang dan melelahkan, acara sosial yang hidup adalah yang Anda butuhkan.                                          59999 non-null  int64\n",
            " 37  Anda menikmati pergi ke museum seni.                                                                                                    59999 non-null  int64\n",
            " 38  Anda sering kesulitan memahami perasaan orang lain.                                                                                     59999 non-null  int64\n",
            " 39  Anda suka memiliki daftar tugas untuk kegiatan harian.                                                                                  59999 non-null  int64\n",
            " 40  Anda jarang merasa tidak aman.                                                                                                          59999 non-null  int64\n",
            " 41  Anda menghindari panggilan telepon.                                                                                                     59999 non-null  int64\n",
            " 42  Anda sering menghabiskan banyak waktu untuk mencoba memahami pandangan yang sangat berbeda dari pandangan Anda.                         59999 non-null  int64\n",
            " 43  Dalam lingkaran sosial Anda, Anda sering menjadi satu-satunya yang menghubungi teman Anda dan memulai aktivitas.                        59999 non-null  int64\n",
            " 44  Jika rencana Anda terganggu, prioritas utama Anda adalah kembali ke jalur secepat mungkin.                                              59999 non-null  int64\n",
            " 45  Anda masih terganggu oleh kesalahan yang Anda buat di masa lalu.                                                                        59999 non-null  int64\n",
            " 46  Anda jarang renungkan alasan keberadaan manusia atau makna hidup.                                                                       59999 non-null  int64\n",
            " 47  Emosi Anda mengendalikan Anda lebih dari yang Anda kendalikan.                                                                          59999 non-null  int64\n",
            " 48  Anda sangat berhati-hati untuk tidak membuat orang terlihat buruk, bahkan ketika itu sepenuhnya kesalahan mereka.                       59999 non-null  int64\n",
            " 49  Gaya kerja pribadi Anda lebih dekat dengan semburan energi spontan daripada upaya terorganisir dan konsisten.                           59999 non-null  int64\n",
            " 50  Ketika seseorang sangat memikirkan Anda, Anda bertanya-tanya berapa lama mereka akan merasa kecewa pada Anda.                           59999 non-null  int64\n",
            " 51  Anda akan menyukai pekerjaan yang membutuhkan Anda untuk bekerja sendiri sebagian besar waktu.                                          59999 non-null  int64\n",
            " 52  Anda percaya bahwa merenungkan pertanyaan filosofis abstrak adalah buang-buang waktu.                                                   59999 non-null  int64\n",
            " 53  Anda merasa lebih tertarik ke tempat-tempat dengan suasana sibuk dan ramai daripada tempat yang tenang dan intim.                       59999 non-null  int64\n",
            " 54  Anda tahu sekilas bagaimana perasaan seseorang.                                                                                         59999 non-null  int64\n",
            " 55  Anda sering merasa kewalahan.                                                                                                           59999 non-null  int64\n",
            " 56  Anda menyelesaikan berbagai hal secara metodis tanpa melewatkan langkah apa pun.                                                        59999 non-null  int64\n",
            " 57  Anda sangat tertarik dengan hal-hal yang dianggap kontroversial.                                                                        59999 non-null  int64\n",
            " 58  Anda akan memberikan kesempatan bagus jika Anda pikir orang lain lebih membutuhkannya.                                                  59999 non-null  int64\n",
            " 59  Anda berjuang dengan tenggat waktu.                                                                                                     59999 non-null  int64\n",
            " 60  Anda merasa yakin bahwa segala sesuatunya akan berhasil untuk Anda.                                                                     59999 non-null  int64\n",
            " 61  Kepribadian                                                                                                                             59999 non-null  int64\n",
            "dtypes: int64(62)\n",
            "memory usage: 28.4 MB\n",
            "None\n"
          ]
        }
      ]
    },
    {
      "cell_type": "code",
      "source": [
        "# Memeriksa apakah ada data kosong\n",
        "print(\"Jumlah data kosong: \", mbti.isnull().sum().sum())"
      ],
      "metadata": {
        "colab": {
          "base_uri": "https://localhost:8080/"
        },
        "id": "-5iOy9sgjsZA",
        "outputId": "a9f9beaa-2a43-48c7-f0f0-b65b06112bf6"
      },
      "execution_count": 5,
      "outputs": [
        {
          "output_type": "stream",
          "name": "stdout",
          "text": [
            "Jumlah data kosong:  0\n"
          ]
        }
      ]
    },
    {
      "cell_type": "code",
      "source": [
        "# Memeriksa apakah ada data duplikat\n",
        "print(\"Jumlah data duplikat:\", mbti.duplicated().sum())"
      ],
      "metadata": {
        "colab": {
          "base_uri": "https://localhost:8080/"
        },
        "id": "rHqe3APekAzX",
        "outputId": "acfb9134-f161-4da5-8ce8-2596e9882a61"
      },
      "execution_count": 6,
      "outputs": [
        {
          "output_type": "stream",
          "name": "stdout",
          "text": [
            "Jumlah data duplikat: 0\n"
          ]
        }
      ]
    },
    {
      "cell_type": "code",
      "source": [
        "mbti[\"Kepribadian\"].value_counts()"
      ],
      "metadata": {
        "colab": {
          "base_uri": "https://localhost:8080/"
        },
        "id": "7z4aAg89nVjN",
        "outputId": "a134990e-6b09-4b7c-d41b-7cecb756426f"
      },
      "execution_count": 7,
      "outputs": [
        {
          "output_type": "execute_result",
          "data": {
            "text/plain": [
              "9     3769\n",
              "7     3761\n",
              "11    3760\n",
              "10    3760\n",
              "0     3759\n",
              "4     3756\n",
              "12    3755\n",
              "8     3749\n",
              "13    3746\n",
              "2     3746\n",
              "3     3743\n",
              "6     3743\n",
              "14    3742\n",
              "5     3739\n",
              "1     3737\n",
              "15    3734\n",
              "Name: Kepribadian, dtype: int64"
            ]
          },
          "metadata": {},
          "execution_count": 7
        }
      ]
    },
    {
      "cell_type": "code",
      "source": [
        "# Memisahkan fitur dan label\n",
        "X = mbti.iloc[:, 1:-1]  # Kolom fitur dimulai dari indeks 1 hingga sebelum kolom terakhir\n",
        "y = mbti.iloc[:, -1]   # Kolom label adalah kolom terakhir"
      ],
      "metadata": {
        "id": "pF0ejqNZa27g"
      },
      "execution_count": 8,
      "outputs": []
    },
    {
      "cell_type": "code",
      "source": [
        "plt.figure(figsize=(15, 7))\n",
        "sns.countplot(x=y)\n",
        "plt.title(\"The number of digit classes\")"
      ],
      "metadata": {
        "colab": {
          "base_uri": "https://localhost:8080/",
          "height": 659
        },
        "id": "ZgYSk38plTW_",
        "outputId": "8a311539-397e-4213-d687-bd32c68537c1"
      },
      "execution_count": 9,
      "outputs": [
        {
          "output_type": "execute_result",
          "data": {
            "text/plain": [
              "Text(0.5, 1.0, 'The number of digit classes')"
            ]
          },
          "metadata": {},
          "execution_count": 9
        },
        {
          "output_type": "display_data",
          "data": {
            "text/plain": [
              "<Figure size 1500x700 with 1 Axes>"
            ],
            "image/png": "[encoded data removed]"
          },
          "metadata": {}
        }
      ]
    },
    {
      "cell_type": "code",
      "source": [
        "# Konversi label menjadi numerik menggunakan one-hot encoding\n",
        "y_encoded = pd.get_dummies(y)"
      ],
      "metadata": {
        "id": "_YHB8VFobMo0"
      },
      "execution_count": 10,
      "outputs": []
    },
    {
      "cell_type": "code",
      "source": [
        "# Memisahkan data menjadi data pelatihan dan data pengujian\n",
        "X_train, X_test, y_train, y_test = train_test_split(X, y_encoded, test_size=0.2, random_state=42)\n",
        "print(X_train.shape)\n",
        "print(X_test.shape)\n",
        "print(y_train.shape)\n",
        "print(y_test.shape)"
      ],
      "metadata": {
        "colab": {
          "base_uri": "https://localhost:8080/"
        },
        "id": "p3Xzcv_ubRBT",
        "outputId": "e301fcf8-f95e-40d1-bc75-81c205e315cc"
      },
      "execution_count": 11,
      "outputs": [
        {
          "output_type": "stream",
          "name": "stdout",
          "text": [
            "(47999, 60)\n",
            "(12000, 60)\n",
            "(47999, 16)\n",
            "(12000, 16)\n"
          ]
        }
      ]
    },
    {
      "cell_type": "code",
      "source": [
        "# Membangun model\n",
        "model = tf.keras.Sequential([\n",
        "    keras.layers.Dense(64, activation='relu', input_dim=X_train.shape[1]),\n",
        "    keras.layers.Dropout(0.2),\n",
        "    keras.layers.Dense(64, activation='relu',),\n",
        "    keras.layers.Dense(y_encoded.shape[1], activation='softmax')\n",
        "])\n",
        "\n",
        "# Menentukan fungsi loss dan optimizer\n",
        "model.compile(loss='categorical_crossentropy', optimizer='adam', metrics=['accuracy'])\n",
        "\n",
        "model.summary()"
      ],
      "metadata": {
        "colab": {
          "base_uri": "https://localhost:8080/"
        },
        "id": "EIkiPg70bV_f",
        "outputId": "01242937-b888-40f4-8686-b219f20ee0ad"
      },
      "execution_count": 12,
      "outputs": [
        {
          "output_type": "stream",
          "name": "stdout",
          "text": [
            "Model: \"sequential\"\n",
            "_________________________________________________________________\n",
            " Layer (type)                Output Shape              Param #   \n",
            "=================================================================\n",
            " dense (Dense)               (None, 64)                3904      \n",
            "                                                                 \n",
            " dropout (Dropout)           (None, 64)                0         \n",
            "                                                                 \n",
            " dense_1 (Dense)             (None, 64)                4160      \n",
            "                                                                 \n",
            " dense_2 (Dense)             (None, 16)                1040      \n",
            "                                                                 \n",
            "=================================================================\n",
            "Total params: 9,104\n",
            "Trainable params: 9,104\n",
            "Non-trainable params: 0\n",
            "_________________________________________________________________\n"
          ]
        }
      ]
    },
    {
      "cell_type": "code",
      "source": [
        "# Melatih model\n",
        "history = model.fit(X_train, y_train,\n",
        "                    epochs=10, batch_size=16,\n",
        "                    validation_data=(X_test, y_test))\n"
      ],
      "metadata": {
        "colab": {
          "base_uri": "https://localhost:8080/"
        },
        "id": "g1yPxNtLbvQL",
        "outputId": "cbd4c924-f594-4e57-e343-d0303cfb2856"
      },
      "execution_count": 13,
      "outputs": [
        {
          "output_type": "stream",
          "name": "stdout",
          "text": [
            "Epoch 1/10\n",
            "3000/3000 [==============================] - 9s 3ms/step - loss: 0.5227 - accuracy: 0.8586 - val_loss: 0.1898 - val_accuracy: 0.9656\n",
            "Epoch 2/10\n",
            "3000/3000 [==============================] - 9s 3ms/step - loss: 0.2639 - accuracy: 0.9410 - val_loss: 0.1699 - val_accuracy: 0.9728\n",
            "Epoch 3/10\n",
            "3000/3000 [==============================] - 9s 3ms/step - loss: 0.2276 - accuracy: 0.9522 - val_loss: 0.1582 - val_accuracy: 0.9757\n",
            "Epoch 4/10\n",
            "3000/3000 [==============================] - 11s 4ms/step - loss: 0.2120 - accuracy: 0.9573 - val_loss: 0.1582 - val_accuracy: 0.9766\n",
            "Epoch 5/10\n",
            "3000/3000 [==============================] - 7s 2ms/step - loss: 0.2040 - accuracy: 0.9597 - val_loss: 0.1496 - val_accuracy: 0.9794\n",
            "Epoch 6/10\n",
            "3000/3000 [==============================] - 9s 3ms/step - loss: 0.1917 - accuracy: 0.9622 - val_loss: 0.1520 - val_accuracy: 0.9786\n",
            "Epoch 7/10\n",
            "3000/3000 [==============================] - 10s 3ms/step - loss: 0.1817 - accuracy: 0.9649 - val_loss: 0.1497 - val_accuracy: 0.9790\n",
            "Epoch 8/10\n",
            "3000/3000 [==============================] - 8s 3ms/step - loss: 0.1830 - accuracy: 0.9648 - val_loss: 0.1461 - val_accuracy: 0.9807\n",
            "Epoch 9/10\n",
            "3000/3000 [==============================] - 9s 3ms/step - loss: 0.1774 - accuracy: 0.9658 - val_loss: 0.1461 - val_accuracy: 0.9803\n",
            "Epoch 10/10\n",
            "3000/3000 [==============================] - 9s 3ms/step - loss: 0.1769 - accuracy: 0.9664 - val_loss: 0.1465 - val_accuracy: 0.9803\n"
          ]
        }
      ]
    },
    {
      "cell_type": "code",
      "source": [
        "# Plot grafik untuk akurasi dan loss pada training dan validasi\n",
        "acc = history.history['accuracy']\n",
        "val_acc = history.history['val_accuracy']\n",
        "loss = history.history['loss']\n",
        "val_loss = history.history['val_loss']\n",
        "\n",
        "epochs = range(len(acc))\n",
        "\n",
        "plt.plot(epochs, acc, 'r', label='Training accuracy')\n",
        "plt.plot(epochs, val_acc, 'b', label='Validation accuracy')\n",
        "plt.title('Training and validation accuracy')\n",
        "plt.legend()\n",
        "plt.figure()\n",
        "\n",
        "plt.plot(epochs, loss, 'r', label='Training Loss')\n",
        "plt.plot(epochs, val_loss, 'b', label='Validation Loss')\n",
        "plt.title('Training and validation loss')\n",
        "plt.legend()\n",
        "\n",
        "plt.show()"
      ],
      "metadata": {
        "colab": {
          "base_uri": "https://localhost:8080/",
          "height": 887
        },
        "id": "dhMKz7MUUiz8",
        "outputId": "42402a04-7f18-40ee-c0d3-d14a29526594"
      },
      "execution_count": 14,
      "outputs": [
        {
          "output_type": "display_data",
          "data": {
            "text/plain": [
              "<Figure size 640x480 with 1 Axes>"
            ],
            "image/png": "[encoded data removed]"
          },
          "metadata": {}
        },
        {
          "output_type": "display_data",
          "data": {
            "text/plain": [
              "<Figure size 640x480 with 1 Axes>"
            ],
            "image/png": "[encoded data removed]"
          },
          "metadata": {}
        }
      ]
    },
    {
      "cell_type": "code",
      "source": [
        "# Evaluasi model pada data pengujian\n",
        "loss, accuracy = model.evaluate(X_test, y_test)\n",
        "print('Test loss:', loss)\n",
        "print('Test accuracy:', accuracy)"
      ],
      "metadata": {
        "colab": {
          "base_uri": "https://localhost:8080/"
        },
        "id": "1QQBWJbHWgeV",
        "outputId": "5e4227f2-00f2-42e1-aa1d-aa383eb23d15"
      },
      "execution_count": 15,
      "outputs": [
        {
          "output_type": "stream",
          "name": "stdout",
          "text": [
            "375/375 [==============================] - 1s 3ms/step - loss: 0.1465 - accuracy: 0.9803\n",
            "Test loss: 0.1464766263961792\n",
            "Test accuracy: 0.9802500009536743\n"
          ]
        }
      ]
    },
    {
      "cell_type": "code",
      "source": [
        "# Menyimpan model dalam format SavedModel\n",
        "model.save('model.h5')"
      ],
      "metadata": {
        "id": "xKKqLM5tOb4h"
      },
      "execution_count": 16,
      "outputs": []
    },
    {
      "cell_type": "code",
      "source": [
        "load_path = '/content/model.h5'\n",
        "\n",
        "# Load model\n",
        "model = tf.keras.models.load_model(load_path)"
      ],
      "metadata": {
        "id": "WMJ-k7XROdxT"
      },
      "execution_count": 17,
      "outputs": []
    },
    {
      "cell_type": "code",
      "source": [
        "# Mengkonversi model menjadi format TFLite\n",
        "converter = tf.lite.TFLiteConverter.from_keras_model(model)\n",
        "tflite_model = converter.convert()"
      ],
      "metadata": {
        "colab": {
          "base_uri": "https://localhost:8080/"
        },
        "id": "IQdG3zhPOqeS",
        "outputId": "86869a65-98e4-4175-e9f1-d1cd97392d00"
      },
      "execution_count": 18,
      "outputs": [
        {
          "output_type": "stream",
          "name": "stderr",
          "text": [
            "WARNING:absl:Found untraced functions such as _update_step_xla while saving (showing 1 of 1). These functions will not be directly callable after loading.\n"
          ]
        }
      ]
    },
    {
      "cell_type": "code",
      "source": [
        "# Menyimpan model TFLite\n",
        "with open('model.tflite', 'wb') as f:\n",
        "    f.write(tflite_model)"
      ],
      "metadata": {
        "id": "2LtabxqKOyZZ"
      },
      "execution_count": 19,
      "outputs": []
    }
  ]
}