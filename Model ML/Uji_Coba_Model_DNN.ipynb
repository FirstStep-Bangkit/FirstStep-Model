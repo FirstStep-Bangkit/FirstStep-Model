{
  "nbformat": 4,
  "nbformat_minor": 0,
  "metadata": {
    "colab": {
      "provenance": []
    },
    "kernelspec": {
      "name": "python3",
      "display_name": "Python 3"
    },
    "language_info": {
      "name": "python"
    }
  },
  "cells": [
    {
      "cell_type": "markdown",
      "source": [
        "## Import Library"
      ],
      "metadata": {
        "id": "79KqvgQgXfTJ"
      }
    },
    {
      "cell_type": "code",
      "execution_count": null,
      "metadata": {
        "id": "ESVrWohHaThh"
      },
      "outputs": [],
      "source": [
        "import pandas as pd\n",
        "import numpy as np\n",
        "import tensorflow as tf\n",
        "from tensorflow import keras\n",
        "from keras.models import load_model"
      ]
    },
    {
      "cell_type": "markdown",
      "source": [
        "## Import Model"
      ],
      "metadata": {
        "id": "7da6ptrIXoyL"
      }
    },
    {
      "cell_type": "code",
      "source": [
        "# import data\n",
        "! gdown --id 11ke8Pmf-0ttYEnwDrcW2vgL-7F-_R8Nd"
      ],
      "metadata": {
        "colab": {
          "base_uri": "https://localhost:8080/"
        },
        "id": "pfHOrHIfaXhg",
        "outputId": "29df3c3a-af14-4076-f953-e47ab9ea1bd5"
      },
      "execution_count": null,
      "outputs": [
        {
          "output_type": "stream",
          "name": "stdout",
          "text": [
            "/usr/local/lib/python3.10/dist-packages/gdown/cli.py:121: FutureWarning: Option `--id` was deprecated in version 4.3.1 and will be removed in 5.0. You don't need to pass it anymore to use a file ID.\n",
            "  warnings.warn(\n",
            "Downloading...\n",
            "From: https://drive.google.com/uc?id=11ke8Pmf-0ttYEnwDrcW2vgL-7F-_R8Nd\n",
            "To: /content/model.h5\n",
            "100% 142k/142k [00:00<00:00, 15.8MB/s]\n"
          ]
        }
      ]
    },
    {
      "cell_type": "code",
      "source": [
        "# Daftar pertanyaan\n",
        "pertanyaan = [ \"Anda secara teratur mendapatkan teman baru.\" ,\n",
        "              \"Anda menghabiskan banyak waktu luang untuk menjelajahi berbagai topik acak yang menarik minat Anda\",\n",
        "              \"Melihat orang lain menangis dapat dengan mudah membuat Anda merasa ingin menangis juga\" ,\n",
        "              \"Anda sering membuat rencana cadangan untuk rencana cadangan.\",\n",
        "              \"Anda biasanya tetap tenang, bahkan di bawah banyak tekanan\",\n",
        "              \"Di acara sosial, Anda jarang mencoba memperkenalkan diri kepada orang baru dan kebanyakan berbicara dengan orang yang sudah Anda kenal\",\n",
        "              \"Anda lebih memilih untuk menyelesaikannya sepenuhnya proyek sebelum memulai yang lain.\" ,\n",
        "              \"Anda sangat sentimental.\",\n",
        "              \"Anda suka menggunakan alat pengorganisasian seperti jadwal dan daftar.\" ,\n",
        "              \"Bahkan kesalahan kecil dapat menyebabkan Anda meragukan kemampuan dan pengetahuan Anda secara keseluruhan.\" ,\n",
        "              \"Anda merasa nyaman hanya berjalan ke seseorang yang Anda temukan menarik dan memicu percakapan.\" ,\n",
        "              \"Anda tidak terlalu tertarik untuk membahas berbagai interpretasi dan analisis karya kreatif.\" ,\n",
        "              \"Anda lebih cenderung mengikuti kepala Anda daripada kata hati Anda.\" ,\n",
        "              \"Anda biasanya lebih suka melakukan apa yang Anda suka pada saat tertentu alih-alih merencanakan rutinitas harian tertentu. \" ,\n",
        "              \"Anda jarang khawatir apakah Anda membuat kesan yang baik pada orang yang Anda temui. \",\n",
        "              \"Anda senang berpartisipasi dalam kegiatan kelompok.\",\n",
        "              \"Anda menyukai buku dan film yang membuat Anda memiliki interpretasi sendiri tentang akhir cerita .\" ,\n",
        "              \"Kebahagiaan Anda datang lebih dari membantu orang lain mencapai sesuatu daripada pencapaian Anda sendiri.\",\n",
        "              \"Anda tertarik pada banyak hal sehingga Anda merasa sulit untuk memilih apa yang akan dicoba selanjutnya.\" ,\n",
        "              \"Anda cenderung khawatir bahwa segala sesuatunya akan berubah menjadi lebih buruk. \",\n",
        "              \"Anda menghindari peran kepemimpinan dalam pengaturan kelompok.\" ,\n",
        "              \"Anda jelas bukan tipe orang yang artistik.\",\n",
        "              \"Anda pikir dunia akan menjadi tempat yang lebih baik jika orang lebih mengandalkan rasionalitas daripada perasaan mereka.\" ,\n",
        "              \"Anda lebih suka melakukan pekerjaan rumah Anda sebelum membiarkan diri Anda bersantai.\" ,\n",
        "              \"Anda menikmati menonton orang berdebat.\",\n",
        "              \"Anda cenderung menghindari menarik perhatian pada diri sendiri.\",\n",
        "              \"Suasana hati Anda dapat berubah dengan sangat cepat.\" ,\n",
        "              \"Anda kehilangan kesabaran dengan orang yang tidak seefisien Anda.\",\n",
        "              \"Anda sering mengakhiri melakukan sesuatu pada saat-saat terakhir yang memungkinkan.\",\n",
        "              \"Anda selalu terpesona oleh pertanyaan tentang apa, jika ada, yang terjadi setelah kematian.\",\n",
        "              \"Anda biasanya lebih suka berada di sekitar orang lain daripada sendirian.\" ,\n",
        "              \"Anda menjadi bosan atau kehilangan minat ketika diskusi menjadi sangat teoretis.\" ,\n",
        "              \"Anda mudah berempati dengan orang yang pengalamannya sangat berbeda dari Anda.\",\n",
        "              \"Anda biasanya menunda keputusan akhir selama mungkin.\",\n",
        "              \"Anda jarang menebak-nebak pilihan yang telah Anda buat .\" ,\n",
        "              \"Setelah minggu yang panjang dan melelahkan, acara sosial yang hidup adalah yang Anda butuhkan.\" ,\n",
        "              \"Anda menikmati pergi ke museum seni.\",\n",
        "              \"Anda sering kesulitan memahami perasaan orang lain.\",\n",
        "              \"Anda suka memiliki daftar tugas untuk kegiatan harian.\",\n",
        "              \"Anda jarang merasa tidak aman.\",\n",
        "              \"Anda menghindari panggilan telepon.\",\n",
        "              \"Anda sering menghabiskan banyak waktu untuk mencoba memahami pandangan yang sangat berbeda dari pandangan Anda.\",\n",
        "              \"Dalam lingkaran sosial Anda, Anda sering menjadi satu-satunya yang menghubungi teman Anda dan memulai aktivitas.\",\n",
        "              \"Jika rencana Anda terganggu, prioritas utama Anda adalah kembali ke jalur secepat mungkin.\",\n",
        "              \"Anda masih terganggu oleh kesalahan yang Anda buat di masa lalu.,Anda jarang renungkan alasan keberadaan manusia atau makna hidup.\" ,\n",
        "              \"Anda jarang renungkan alasan keberadaan manusia atau makna hidup.\",\n",
        "              \"Emosi Anda mengendalikan Anda lebih dari yang Anda kendalikan.\",\n",
        "              \"Anda sangat berhati-hati untuk tidak membuat orang terlihat buruk, bahkan ketika itu sepenuhnya kesalahan mereka.\",\n",
        "              \"Gaya kerja pribadi Anda lebih dekat dengan semburan energi spontan daripada upaya terorganisir dan konsisten.\" ,\n",
        "              \"Ketika seseorang sangat memikirkan Anda, Anda bertanya-tanya berapa lama mereka akan merasa kecewa pada Anda.\",\n",
        "              \"Anda akan menyukai pekerjaan yang membutuhkan Anda untuk bekerja sendiri sebagian besar waktu.\" ,\n",
        "              \"Anda percaya bahwa merenungkan pertanyaan filosofis abstrak adalah buang-buang waktu.\",\n",
        "              \"Anda merasa lebih tertarik ke tempat-tempat dengan suasana sibuk dan ramai daripada tempat yang tenang dan intim.\",\n",
        "              \"Anda tahu sekilas bagaimana perasaan seseorang.\",\n",
        "              \"Anda sering merasa kewalahan.\",\n",
        "              \"Anda menyelesaikan berbagai hal secara metodis tanpa melewatkan langkah apa pun.\",\n",
        "              \"Anda sangat tertarik dengan hal-hal yang dianggap kontroversial.\",\n",
        "              \"Anda akan memberikan kesempatan bagus jika Anda pikir orang lain lebih membutuhkannya.\",\n",
        "              \"Anda berjuang dengan tenggat waktu.\",\n",
        "              \"Anda merasa yakin bahwa segala sesuatunya akan berhasil untuk Anda.\",\n",
        "\n",
        "\n",
        "]\n",
        "\n",
        "# Membuat dataframe kosong untuk menyimpan jawaban\n",
        "data = pd.DataFrame(columns=[\"Pertanyaan\", \"Jawaban\"])\n",
        "\n",
        "# Mengisi jawaban untuk setiap pertanyaan\n",
        "for i, pertanyaan in enumerate(pertanyaan):\n",
        "    jawaban = input(pertanyaan + \" (-3/-2/-1/0/1/2/3): \")\n",
        "    data.loc[i] = [pertanyaan, jawaban]\n",
        "\n",
        "# Menyimpan jawaban ke file CSV\n",
        "data.to_csv(\"jawaban.csv\", index=False)\n",
        "\n",
        "# Menampilkan data yang telah disimpan\n",
        "print(\"Data jawaban telah disimpan:\")\n",
        "print(data)"
      ],
      "metadata": {
        "id": "CHj-HeeM4XLn",
        "colab": {
          "base_uri": "https://localhost:8080/"
        },
        "outputId": "c0afad4d-3c4c-4bd6-c661-402636c5200f"
      },
      "execution_count": null,
      "outputs": [
        {
          "output_type": "stream",
          "name": "stdout",
          "text": [
            "Anda secara teratur mendapatkan teman baru. (-3/-2/-1/0/1/2/3): 0\n",
            "Anda menghabiskan banyak waktu luang untuk menjelajahi berbagai topik acak yang menarik minat Anda (-3/-2/-1/0/1/2/3): 0\n",
            "Melihat orang lain menangis dapat dengan mudah membuat Anda merasa ingin menangis juga (-3/-2/-1/0/1/2/3): 0\n",
            "Anda sering membuat rencana cadangan untuk rencana cadangan. (-3/-2/-1/0/1/2/3): 0\n",
            "Anda biasanya tetap tenang, bahkan di bawah banyak tekanan (-3/-2/-1/0/1/2/3): 0\n",
            "Di acara sosial, Anda jarang mencoba memperkenalkan diri kepada orang baru dan kebanyakan berbicara dengan orang yang sudah Anda kenal (-3/-2/-1/0/1/2/3): 1\n",
            "Anda lebih memilih untuk menyelesaikannya sepenuhnya proyek sebelum memulai yang lain. (-3/-2/-1/0/1/2/3): 1\n",
            "Anda sangat sentimental. (-3/-2/-1/0/1/2/3): 0\n",
            "Anda suka menggunakan alat pengorganisasian seperti jadwal dan daftar. (-3/-2/-1/0/1/2/3): 0\n",
            "Bahkan kesalahan kecil dapat menyebabkan Anda meragukan kemampuan dan pengetahuan Anda secara keseluruhan. (-3/-2/-1/0/1/2/3): 0\n",
            "Anda merasa nyaman hanya berjalan ke seseorang yang Anda temukan menarik dan memicu percakapan. (-3/-2/-1/0/1/2/3): 0\n",
            "Anda tidak terlalu tertarik untuk membahas berbagai interpretasi dan analisis karya kreatif. (-3/-2/-1/0/1/2/3): 1\n",
            "Anda lebih cenderung mengikuti kepala Anda daripada kata hati Anda. (-3/-2/-1/0/1/2/3): 1\n",
            "Anda biasanya lebih suka melakukan apa yang Anda suka pada saat tertentu alih-alih merencanakan rutinitas harian tertentu.  (-3/-2/-1/0/1/2/3): 0\n",
            "Anda jarang khawatir apakah Anda membuat kesan yang baik pada orang yang Anda temui.  (-3/-2/-1/0/1/2/3): 1\n",
            "Anda senang berpartisipasi dalam kegiatan kelompok. (-3/-2/-1/0/1/2/3): -1\n",
            "Anda menyukai buku dan film yang membuat Anda memiliki interpretasi sendiri tentang akhir cerita . (-3/-2/-1/0/1/2/3): -1\n",
            "Kebahagiaan Anda datang lebih dari membantu orang lain mencapai sesuatu daripada pencapaian Anda sendiri. (-3/-2/-1/0/1/2/3): 0\n",
            "Anda tertarik pada banyak hal sehingga Anda merasa sulit untuk memilih apa yang akan dicoba selanjutnya. (-3/-2/-1/0/1/2/3): 0\n",
            "Anda cenderung khawatir bahwa segala sesuatunya akan berubah menjadi lebih buruk.  (-3/-2/-1/0/1/2/3): 0\n",
            "Anda menghindari peran kepemimpinan dalam pengaturan kelompok. (-3/-2/-1/0/1/2/3): 0\n",
            "Anda jelas bukan tipe orang yang artistik. (-3/-2/-1/0/1/2/3): 0\n",
            "Anda pikir dunia akan menjadi tempat yang lebih baik jika orang lebih mengandalkan rasionalitas daripada perasaan mereka. (-3/-2/-1/0/1/2/3): 0\n",
            "Anda lebih suka melakukan pekerjaan rumah Anda sebelum membiarkan diri Anda bersantai. (-3/-2/-1/0/1/2/3): 0\n",
            "Anda menikmati menonton orang berdebat. (-3/-2/-1/0/1/2/3): 0\n",
            "Anda cenderung menghindari menarik perhatian pada diri sendiri. (-3/-2/-1/0/1/2/3): 0\n",
            "Suasana hati Anda dapat berubah dengan sangat cepat. (-3/-2/-1/0/1/2/3): 0\n",
            "Anda kehilangan kesabaran dengan orang yang tidak seefisien Anda. (-3/-2/-1/0/1/2/3): 0\n",
            "Anda sering mengakhiri melakukan sesuatu pada saat-saat terakhir yang memungkinkan. (-3/-2/-1/0/1/2/3): 0\n",
            "Anda selalu terpesona oleh pertanyaan tentang apa, jika ada, yang terjadi setelah kematian. (-3/-2/-1/0/1/2/3): -1\n",
            "Anda biasanya lebih suka berada di sekitar orang lain daripada sendirian. (-3/-2/-1/0/1/2/3): 0\n",
            "Anda menjadi bosan atau kehilangan minat ketika diskusi menjadi sangat teoretis. (-3/-2/-1/0/1/2/3): 0\n",
            "Anda mudah berempati dengan orang yang pengalamannya sangat berbeda dari Anda. (-3/-2/-1/0/1/2/3): 0\n",
            "Anda biasanya menunda keputusan akhir selama mungkin. (-3/-2/-1/0/1/2/3): 0\n",
            "Anda jarang menebak-nebak pilihan yang telah Anda buat . (-3/-2/-1/0/1/2/3): 0\n",
            "Setelah minggu yang panjang dan melelahkan, acara sosial yang hidup adalah yang Anda butuhkan. (-3/-2/-1/0/1/2/3): -1\n",
            "Anda menikmati pergi ke museum seni. (-3/-2/-1/0/1/2/3): 0\n",
            "Anda sering kesulitan memahami perasaan orang lain. (-3/-2/-1/0/1/2/3): -1\n",
            "Anda suka memiliki daftar tugas untuk kegiatan harian. (-3/-2/-1/0/1/2/3): 1\n",
            "Anda jarang merasa tidak aman. (-3/-2/-1/0/1/2/3): -1\n",
            "Anda menghindari panggilan telepon. (-3/-2/-1/0/1/2/3): 0\n",
            "Anda sering menghabiskan banyak waktu untuk mencoba memahami pandangan yang sangat berbeda dari pandangan Anda. (-3/-2/-1/0/1/2/3): 0\n",
            "Dalam lingkaran sosial Anda, Anda sering menjadi satu-satunya yang menghubungi teman Anda dan memulai aktivitas. (-3/-2/-1/0/1/2/3): 1\n",
            "Jika rencana Anda terganggu, prioritas utama Anda adalah kembali ke jalur secepat mungkin. (-3/-2/-1/0/1/2/3): 0\n",
            "Anda masih terganggu oleh kesalahan yang Anda buat di masa lalu.,Anda jarang renungkan alasan keberadaan manusia atau makna hidup. (-3/-2/-1/0/1/2/3): -1\n",
            "Anda jarang renungkan alasan keberadaan manusia atau makna hidup. (-3/-2/-1/0/1/2/3): 0\n",
            "Emosi Anda mengendalikan Anda lebih dari yang Anda kendalikan. (-3/-2/-1/0/1/2/3): 0\n",
            "Anda sangat berhati-hati untuk tidak membuat orang terlihat buruk, bahkan ketika itu sepenuhnya kesalahan mereka. (-3/-2/-1/0/1/2/3): 0\n",
            "Gaya kerja pribadi Anda lebih dekat dengan semburan energi spontan daripada upaya terorganisir dan konsisten. (-3/-2/-1/0/1/2/3): 0\n",
            "Ketika seseorang sangat memikirkan Anda, Anda bertanya-tanya berapa lama mereka akan merasa kecewa pada Anda. (-3/-2/-1/0/1/2/3): 0\n",
            "Anda akan menyukai pekerjaan yang membutuhkan Anda untuk bekerja sendiri sebagian besar waktu. (-3/-2/-1/0/1/2/3): 0\n",
            "Anda percaya bahwa merenungkan pertanyaan filosofis abstrak adalah buang-buang waktu. (-3/-2/-1/0/1/2/3): 0\n",
            "Anda merasa lebih tertarik ke tempat-tempat dengan suasana sibuk dan ramai daripada tempat yang tenang dan intim. (-3/-2/-1/0/1/2/3): 0\n",
            "Anda tahu sekilas bagaimana perasaan seseorang. (-3/-2/-1/0/1/2/3): 0\n",
            "Anda sering merasa kewalahan. (-3/-2/-1/0/1/2/3): -1\n",
            "Anda menyelesaikan berbagai hal secara metodis tanpa melewatkan langkah apa pun. (-3/-2/-1/0/1/2/3): 0\n",
            "Anda sangat tertarik dengan hal-hal yang dianggap kontroversial. (-3/-2/-1/0/1/2/3): 0\n",
            "Anda akan memberikan kesempatan bagus jika Anda pikir orang lain lebih membutuhkannya. (-3/-2/-1/0/1/2/3): 0\n",
            "Anda berjuang dengan tenggat waktu. (-3/-2/-1/0/1/2/3): 0\n",
            "Anda merasa yakin bahwa segala sesuatunya akan berhasil untuk Anda. (-3/-2/-1/0/1/2/3): 0\n",
            "Data jawaban telah disimpan:\n",
            "                                           Pertanyaan Jawaban\n",
            "0         Anda secara teratur mendapatkan teman baru.       0\n",
            "1   Anda menghabiskan banyak waktu luang untuk men...       0\n",
            "2   Melihat orang lain menangis dapat dengan mudah...       0\n",
            "3   Anda sering membuat rencana cadangan untuk ren...       0\n",
            "4   Anda biasanya tetap tenang, bahkan di bawah ba...       0\n",
            "5   Di acara sosial, Anda jarang mencoba memperken...       1\n",
            "6   Anda lebih memilih untuk menyelesaikannya sepe...       1\n",
            "7                            Anda sangat sentimental.       0\n",
            "8   Anda suka menggunakan alat pengorganisasian se...       0\n",
            "9   Bahkan kesalahan kecil dapat menyebabkan Anda ...       0\n",
            "10  Anda merasa nyaman hanya berjalan ke seseorang...       0\n",
            "11  Anda tidak terlalu tertarik untuk membahas ber...       1\n",
            "12  Anda lebih cenderung mengikuti kepala Anda dar...       1\n",
            "13  Anda biasanya lebih suka melakukan apa yang An...       0\n",
            "14  Anda jarang khawatir apakah Anda membuat kesan...       1\n",
            "15  Anda senang berpartisipasi dalam kegiatan kelo...      -1\n",
            "16  Anda menyukai buku dan film yang membuat Anda ...      -1\n",
            "17  Kebahagiaan Anda datang lebih dari membantu or...       0\n",
            "18  Anda tertarik pada banyak hal sehingga Anda me...       0\n",
            "19  Anda cenderung khawatir bahwa segala sesuatuny...       0\n",
            "20  Anda menghindari peran kepemimpinan dalam peng...       0\n",
            "21         Anda jelas bukan tipe orang yang artistik.       0\n",
            "22  Anda pikir dunia akan menjadi tempat yang lebi...       0\n",
            "23  Anda lebih suka melakukan pekerjaan rumah Anda...       0\n",
            "24            Anda menikmati menonton orang berdebat.       0\n",
            "25  Anda cenderung menghindari menarik perhatian p...       0\n",
            "26  Suasana hati Anda dapat berubah dengan sangat ...       0\n",
            "27  Anda kehilangan kesabaran dengan orang yang ti...       0\n",
            "28  Anda sering mengakhiri melakukan sesuatu pada ...       0\n",
            "29  Anda selalu terpesona oleh pertanyaan tentang ...      -1\n",
            "30  Anda biasanya lebih suka berada di sekitar ora...       0\n",
            "31  Anda menjadi bosan atau kehilangan minat ketik...       0\n",
            "32  Anda mudah berempati dengan orang yang pengala...       0\n",
            "33  Anda biasanya menunda keputusan akhir selama m...       0\n",
            "34  Anda jarang menebak-nebak pilihan yang telah A...       0\n",
            "35  Setelah minggu yang panjang dan melelahkan, ac...      -1\n",
            "36               Anda menikmati pergi ke museum seni.       0\n",
            "37  Anda sering kesulitan memahami perasaan orang ...      -1\n",
            "38  Anda suka memiliki daftar tugas untuk kegiatan...       1\n",
            "39                     Anda jarang merasa tidak aman.      -1\n",
            "40                Anda menghindari panggilan telepon.       0\n",
            "41  Anda sering menghabiskan banyak waktu untuk me...       0\n",
            "42  Dalam lingkaran sosial Anda, Anda sering menja...       1\n",
            "43  Jika rencana Anda terganggu, prioritas utama A...       0\n",
            "44  Anda masih terganggu oleh kesalahan yang Anda ...      -1\n",
            "45  Anda jarang renungkan alasan keberadaan manusi...       0\n",
            "46  Emosi Anda mengendalikan Anda lebih dari yang ...       0\n",
            "47  Anda sangat berhati-hati untuk tidak membuat o...       0\n",
            "48  Gaya kerja pribadi Anda lebih dekat dengan sem...       0\n",
            "49  Ketika seseorang sangat memikirkan Anda, Anda ...       0\n",
            "50  Anda akan menyukai pekerjaan yang membutuhkan ...       0\n",
            "51  Anda percaya bahwa merenungkan pertanyaan filo...       0\n",
            "52  Anda merasa lebih tertarik ke tempat-tempat de...       0\n",
            "53    Anda tahu sekilas bagaimana perasaan seseorang.       0\n",
            "54                      Anda sering merasa kewalahan.      -1\n",
            "55  Anda menyelesaikan berbagai hal secara metodis...       0\n",
            "56  Anda sangat tertarik dengan hal-hal yang diang...       0\n",
            "57  Anda akan memberikan kesempatan bagus jika And...       0\n",
            "58                Anda berjuang dengan tenggat waktu.       0\n",
            "59  Anda merasa yakin bahwa segala sesuatunya akan...       0\n"
          ]
        }
      ]
    },
    {
      "cell_type": "code",
      "source": [
        "# Mengubah kolom Jawaban menjadi array numpy\n",
        "jawaban = np.array(data[\"Jawaban\"], dtype=int)\n",
        "\n",
        "# Melakukan transposisi array\n",
        "jawaban = jawaban.T\n",
        "\n",
        "print(type(jawaban))\n",
        "\n",
        "print(jawaban.shape)"
      ],
      "metadata": {
        "colab": {
          "base_uri": "https://localhost:8080/"
        },
        "id": "EkdJtSkOR8AH",
        "outputId": "43a1aa64-cbdc-43e7-91e6-97fc657b010e"
      },
      "execution_count": null,
      "outputs": [
        {
          "output_type": "stream",
          "name": "stdout",
          "text": [
            "<class 'numpy.ndarray'>\n",
            "(60,)\n"
          ]
        }
      ]
    },
    {
      "cell_type": "code",
      "source": [
        "# Menguji coba jawaban dari dataset sendiri\n",
        "#  Mengubah kolom Jawaban menjadi array\n",
        "jawaban = np.array([0,-1,0,0,-1,2,1,0,-2,0,2,1,0,2,2,0,0,-1,1,0,0,0,0,0,3,-2,0,0,2,0,1,0,1,0,0,1,-2,2,1,-1,2,-1,2,-2,-1,0,-1,0,-1,0,-1,0,-1,0,-1,0,0,1,0,1])\n",
        "\n",
        "print(jawaban.shape)"
      ],
      "metadata": {
        "id": "oQ-cVWb24ZFM",
        "colab": {
          "base_uri": "https://localhost:8080/"
        },
        "outputId": "eb08f2d3-3ab0-4bdc-cf89-49b1af36fd9b"
      },
      "execution_count": null,
      "outputs": [
        {
          "output_type": "stream",
          "name": "stdout",
          "text": [
            "(60,)\n"
          ]
        }
      ]
    },
    {
      "cell_type": "code",
      "source": [
        "# Mengubah kolom Jawaban menjadi array\n",
        "\n",
        "from keras.models import load_model\n",
        "import numpy as np\n",
        "\n",
        "# Melakukan prediksi menggunakan model\n",
        "model = load_model(\"model.h5\")\n",
        "X = np.expand_dims(jawaban, axis=0)\n",
        "prediksi = model.predict(X)\n",
        "\n",
        "# # Menampilkan hasil prediksi\n",
        "print(prediksi)\n",
        "# [\"Yes\" if prediksi >= 0.5 else \"No\" for prediksi in prediksi]\n",
        "max_value = np.amax(prediksi)\n",
        "print(\"Hasil Prediksi\", max_value)\n",
        "\n",
        "max_index = np.argmax(prediksi)\n",
        "\n",
        "print(\"index\", max_index)\n",
        "if max_index == 0:\n",
        "  print('Kepribadian = ESTJ')\n",
        "if max_index == 1:\n",
        "  print('Kepribadian == ENTJ')\n",
        "if max_index == 2:\n",
        "  print('Kepribadian = ESFJ')\n",
        "if max_index == 3:\n",
        "  print('Kepribadian = ENFJ')\n",
        "if max_index == 4:\n",
        "  print('Kepribadian = ISTJ')\n",
        "if max_index == 5:\n",
        "  print('Kepribadian = ISFJ')\n",
        "if max_index == 6:\n",
        "  print('Kepribadian = INTJ')\n",
        "if max_index == 7:\n",
        "  print('Kepribadian = INFJ')\n",
        "if max_index == 8:\n",
        "  print('Kepribadian = ESTP')\n",
        "if max_index == 9:\n",
        "  print('Kepribadian = ESFP')\n",
        "if max_index ==10:\n",
        "  print('Kepribadian = ENTP')\n",
        "if max_index == 11:\n",
        "  print('Kepribadian = ENFP')\n",
        "if max_index == 12:\n",
        "  print('Kepribadian = ISTP')\n",
        "if max_index == 13:\n",
        "  print('Kepribadian = ISFP')\n",
        "if max_index == 14:\n",
        "  print('Kepribadian = INTP')\n",
        "if max_index == 15:\n",
        "  print('Kepribadian = INFP')"
      ],
      "metadata": {
        "id": "OdWCmpoSFd9N",
        "colab": {
          "base_uri": "https://localhost:8080/"
        },
        "outputId": "cf0b6191-261d-49d5-c395-185051151309"
      },
      "execution_count": null,
      "outputs": [
        {
          "output_type": "stream",
          "name": "stdout",
          "text": [
            "1/1 [==============================] - 0s 173ms/step\n",
            "[[8.9666395e-07 9.8195542e-06 1.0546012e-05 2.8076886e-06 3.0218489e-06\n",
            "  4.2226370e-06 1.1099556e-06 6.1856452e-05 4.0492050e-05 9.9806470e-01\n",
            "  9.4336195e-07 1.1590186e-05 1.7529506e-03 1.4176926e-05 8.6158052e-06\n",
            "  1.2159623e-05]]\n",
            "Hasil Prediksi 0.9980647\n",
            "index 9\n",
            "Kepribadian = ESFP\n"
          ]
        }
      ]
    }
  ]
}